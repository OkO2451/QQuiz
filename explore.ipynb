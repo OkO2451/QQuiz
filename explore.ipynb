{
 "cells": [
  {
   "cell_type": "markdown",
   "metadata": {},
   "source": [
    "# Section 1\n",
    "Content for Section 1."
   ]
  },
  {
   "cell_type": "code",
   "execution_count": 22,
   "metadata": {},
   "outputs": [],
   "source": [
    "\n",
    "import os\n",
    "\n",
    "import json\n",
    "# mport regex\n",
    "\n",
    "\n",
    "# open test.txt and get the string\n",
    "with open('test1.txt', 'r') as file:\n",
    "    course_content = file.read()\n",
    "\n",
    "# the string is a json object, so we need to parse it\n",
    "\n"
   ]
  },
  {
   "cell_type": "code",
   "execution_count": 23,
   "metadata": {},
   "outputs": [
    {
     "name": "stdout",
     "output_type": "stream",
     "text": [
      "{'id': 'chatcmpl-8ukIVaFuuzS0M5tGNt6pqFVkiNQM7', 'choices': [{'finish_reason': 'stop', 'index': 0, 'logprobs': None, 'message': {'content': \"#### Q1: Quelle génération de réseaux mobiles permet des vitesses de téléchargement ultra-rapides et une faible latence, idéale pour le streaming en direct et l'IoT?\\n- [ ] 3G\\n- [X] 5G\\n- [ ] 1G\\n\\n#### Q2: Quelle composante d'une application Android permet d'exécuter des tâches longues sans interface utilisateur, comme la lecture de musique en arrière-plan?\\n- [ ] Activity\\n- [ ] Broadcast Receiver\\n- [X] Service\\n\\n#### Q3: En termes de développement mobile, quel type d'application offre une performance élevée et un accès complet aux fonctionnalités de l'appareil?\\n- [X] Applications natives\\n- [ ] Applications Web\\n- [ ] Applications Cross Platform\\n\\n#### Q4: Quelle est la principale différence entre Dalvik et ART dans le contexte d'Android?\\n- [ ] Dalvik offre une meilleure compatibilité avec les applications Web.\\n- [X] Dalvik a été remplacé par ART pour offrir une meilleure performance d'exécution des applications.\\n- [ ] ART nécessite un accès internet constant pour fonctionner.\\n\\n#### Q5: Quel fichier dans une application Android contient la configuration globale de l'application, notamment les capacités, composants et permissions?\\n- [ ] build.gradle\\n- [X] AndroidManifest.xml\\n- [ ] MainActivity.java\\n\\n#### Q6: Quel est l'objectif principal des systèmes de gestion de la batterie intégrés au noyau Linux d'Android?\\n- [ ] Maximiser la vitesse du processeur\\n- [ ] Faciliter la mise à jour des applications\\n- [X] Ajuster la consommation d'énergie des composants matériels selon l'utilisation\\n\\n#### Q7: Quel type d'Intent est utilisé quand on spécifie explicitement la classe du composant à démarrer?\\n- [X] Explicite\\n- [ ] Implicite\\n- [ ] Dynamique\\n\\n#### Q8: Pourquoi est-il important d'optimiser l'utilisation de la mémoire dans le développement d'applications mobiles?\\n- [ ] Pour augmenter la taille de l'application\\n- [X] Pour éviter les surcharges qui peuvent ralentir le fonctionnement\\n- [ ] Pour augmenter la bande passante requise\\n\\n#### Q9: Quel élément d'interface utilisateur Android représente généralement une seule fenêtre avec une interface utilisateur?\\n- [X] Activité\\n- [ ] Service\\n- [ ] Broadcast Receiver\\n\\n#### Q10: Quelle méthode est appelée quand une activité devient semi-visible, ayant perdu le focus utilisateur?\\n- [ ] OnStart()\\n- [X] OnPause()\\n- [ ] OnDestroy()\", 'role': 'assistant', 'function_call': None, 'tool_calls': None}}], 'created': 1708535027, 'model': 'gpt-4-0125-preview', 'object': 'chat.completion', 'system_fingerprint': 'fp_1297aa77f4', 'usage': {'completion_tokens': 610, 'prompt_tokens': 3241, 'total_tokens': 3851}}\n"
     ]
    }
   ],
   "source": []
  },
  {
   "cell_type": "code",
   "execution_count": 41,
   "metadata": {},
   "outputs": [
    {
     "name": "stdout",
     "output_type": "stream",
     "text": [
      "[{'question': \"Q1: Quelle génération de réseaux mobiles permet des vitesses de téléchargement ultra-rapides et une faible latence, idéale pour le streaming en direct et l'IoT?\", 'options': ['[ ] 3G', '[X] 5G', '[ ] 1G'], 'answer': '[X] 5G'}, {'question': \"Q2: Quelle composante d'une application Android permet d'exécuter des tâches longues sans interface utilisateur, comme la lecture de musique en arrière-plan?\", 'options': ['[ ] Activity', '[ ] Broadcast Receiver', '[X] Service'], 'answer': '[X] Service'}, {'question': \"Q3: En termes de développement mobile, quel type d'application offre une performance élevée et un accès complet aux fonctionnalités de l'appareil?\", 'options': ['[X] Applications natives', '[ ] Applications Web', '[ ] Applications Cross Platform'], 'answer': '[X] Applications natives'}, {'question': \"Q4: Quelle est la principale différence entre Dalvik et ART dans le contexte d'Android?\", 'options': ['[ ] Dalvik offre une meilleure compatibilité avec les applications Web.', \"[X] Dalvik a été remplacé par ART pour offrir une meilleure performance d'exécution des applications.\", '[ ] ART nécessite un accès internet constant pour fonctionner.'], 'answer': \"[X] Dalvik a été remplacé par ART pour offrir une meilleure performance d'exécution des applications.\"}, {'question': \"Q5: Quel fichier dans une application Android contient la configuration globale de l'application, notamment les capacités, composants et permissions?\", 'options': ['[ ] build.gradle', '[X] AndroidManifest.xml', '[ ] MainActivity.java'], 'answer': '[X] AndroidManifest.xml'}, {'question': \"Q6: Quel est l'objectif principal des systèmes de gestion de la batterie intégrés au noyau Linux d'Android?\", 'options': ['[ ] Maximiser la vitesse du processeur', '[ ] Faciliter la mise à jour des applications', \"[X] Ajuster la consommation d'énergie des composants matériels selon l'utilisation\"], 'answer': \"[X] Ajuster la consommation d'énergie des composants matériels selon l'utilisation\"}, {'question': \"Q7: Quel type d'Intent est utilisé quand on spécifie explicitement la classe du composant à démarrer?\", 'options': ['[X] Explicite', '[ ] Implicite', '[ ] Dynamique'], 'answer': '[X] Explicite'}, {'question': \"Q8: Pourquoi est-il important d'optimiser l'utilisation de la mémoire dans le développement d'applications mobiles?\", 'options': [\"[ ] Pour augmenter la taille de l'application\", '[X] Pour éviter les surcharges qui peuvent ralentir le fonctionnement', '[ ] Pour augmenter la bande passante requise'], 'answer': '[X] Pour éviter les surcharges qui peuvent ralentir le fonctionnement'}, {'question': \"Q9: Quel élément d'interface utilisateur Android représente généralement une seule fenêtre avec une interface utilisateur?\", 'options': ['[X] Activité', '[ ] Service', '[ ] Broadcast Receiver'], 'answer': '[X] Activité'}, {'question': 'Q10: Quelle méthode est appelée quand une activité devient semi-visible, ayant perdu le focus utilisateur?', 'options': ['[ ] OnStart()', '[X] OnPause()', '[ ] OnDestroy()'], 'answer': '[X] OnPause()'}]\n"
     ]
    }
   ],
   "source": [
    "import re\n",
    "json_dict = json.loads(course_content)\n",
    "\n",
    "quiz_string = json_dict.get('choices')[0].get('message').get('content')\n",
    "quiz_list = quiz_string.split(\"\\n\\n\")\n",
    "quiz = []\n",
    "for quiz_item in quiz_list:\n",
    "    lines = quiz_item.split(\"\\n\")\n",
    "    question = lines[0][5:]\n",
    "    options = [re.sub(r\"^- \", \"\", line) for line in lines[1:]]\n",
    "    answer = next((option[4:] for option in options if \"[X]\" in option), None)\n",
    "    options = [option[4:] for option in options]\n",
    "    quiz.append({\"question\": question, \"options\": options, \"answer\": answer})\n",
    "print(quiz)"
   ]
  },
  {
   "cell_type": "code",
   "execution_count": 42,
   "metadata": {},
   "outputs": [
    {
     "name": "stdout",
     "output_type": "stream",
     "text": [
      "[{'question': \"Q1: Quelle génération de réseaux mobiles permet des vitesses de téléchargement ultra-rapides et une faible latence, idéale pour le streaming en direct et l'IoT?\", 'options': ['3G', '5G', '1G'], 'answer': '5G'}, {'question': \"Q2: Quelle composante d'une application Android permet d'exécuter des tâches longues sans interface utilisateur, comme la lecture de musique en arrière-plan?\", 'options': ['Activity', 'Broadcast Receiver', 'Service'], 'answer': 'Service'}, {'question': \"Q3: En termes de développement mobile, quel type d'application offre une performance élevée et un accès complet aux fonctionnalités de l'appareil?\", 'options': ['Applications natives', 'Applications Web', 'Applications Cross Platform'], 'answer': 'Applications natives'}, {'question': \"Q4: Quelle est la principale différence entre Dalvik et ART dans le contexte d'Android?\", 'options': ['Dalvik offre une meilleure compatibilité avec les applications Web.', \"Dalvik a été remplacé par ART pour offrir une meilleure performance d'exécution des applications.\", 'ART nécessite un accès internet constant pour fonctionner.'], 'answer': \"Dalvik a été remplacé par ART pour offrir une meilleure performance d'exécution des applications.\"}, {'question': \"Q5: Quel fichier dans une application Android contient la configuration globale de l'application, notamment les capacités, composants et permissions?\", 'options': ['build.gradle', 'AndroidManifest.xml', 'MainActivity.java'], 'answer': 'AndroidManifest.xml'}, {'question': \"Q6: Quel est l'objectif principal des systèmes de gestion de la batterie intégrés au noyau Linux d'Android?\", 'options': ['Maximiser la vitesse du processeur', 'Faciliter la mise à jour des applications', \"Ajuster la consommation d'énergie des composants matériels selon l'utilisation\"], 'answer': \"Ajuster la consommation d'énergie des composants matériels selon l'utilisation\"}, {'question': \"Q7: Quel type d'Intent est utilisé quand on spécifie explicitement la classe du composant à démarrer?\", 'options': ['Explicite', 'Implicite', 'Dynamique'], 'answer': 'Explicite'}, {'question': \"Q8: Pourquoi est-il important d'optimiser l'utilisation de la mémoire dans le développement d'applications mobiles?\", 'options': [\"Pour augmenter la taille de l'application\", 'Pour éviter les surcharges qui peuvent ralentir le fonctionnement', 'Pour augmenter la bande passante requise'], 'answer': 'Pour éviter les surcharges qui peuvent ralentir le fonctionnement'}, {'question': \"Q9: Quel élément d'interface utilisateur Android représente généralement une seule fenêtre avec une interface utilisateur?\", 'options': ['Activité', 'Service', 'Broadcast Receiver'], 'answer': 'Activité'}, {'question': 'Q10: Quelle méthode est appelée quand une activité devient semi-visible, ayant perdu le focus utilisateur?', 'options': ['OnStart()', 'OnPause()', 'OnDestroy()'], 'answer': 'OnPause()'}]\n"
     ]
    }
   ],
   "source": [
    "\n",
    "\n",
    "print(quiz)"
   ]
  },
  {
   "cell_type": "code",
   "execution_count": 43,
   "metadata": {},
   "outputs": [],
   "source": [
    "with open('test1.txt', 'r') as file:\n",
    "    course_content = file.read()\n",
    "\n"
   ]
  },
  {
   "cell_type": "code",
   "execution_count": 44,
   "metadata": {},
   "outputs": [
    {
     "name": "stdout",
     "output_type": "stream",
     "text": [
      "La question \"What is 2+2?\" est un exemple basique d'une opération mathématique appelée addition, où on demande de calculer la somme de deux nombres, dans ce cas, 2 et 2. En mathématiques, l'addition est une des quatre opérations arithmétiques de base, qui permet de combiner deux quantités pour en obtenir une nouvelle, la somme. Ici, la question cherche à connaître le résultat de l'addition de 2 avec 2.\n",
      "\n",
      "La réponse à cette question est \"4\". C'est parce que lorsqu'on ajoute 2 et 2 ensemble, la somme totale est égale à 4. Cette opération peut être représentée simplement comme 2 + 2 = 4. Ce type de question et de réponse fait partie des notions fondamentales en mathématiques et est généralement enseigné dès le plus jeune âge, pour introduire le concept de l'addition et de la compréhension des nombres.\n"
     ]
    }
   ],
   "source": [
    "ok = json.loads(course_content)\n",
    "print(ok.get('choices')[0].get('message').get('content'))"
   ]
  }
 ],
 "metadata": {
  "kernelspec": {
   "display_name": "Python 3",
   "language": "python",
   "name": "python3"
  },
  "language_info": {
   "codemirror_mode": {
    "name": "ipython",
    "version": 3
   },
   "file_extension": ".py",
   "mimetype": "text/x-python",
   "name": "python",
   "nbconvert_exporter": "python",
   "pygments_lexer": "ipython3",
   "version": "3.11.8"
  },
  "orig_nbformat": 4
 },
 "nbformat": 4,
 "nbformat_minor": 2
}
